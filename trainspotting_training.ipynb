{
  "nbformat": 4,
  "nbformat_minor": 0,
  "metadata": {
    "colab": {
      "name": "trainspotting_training.ipynb",
      "version": "0.3.2",
      "provenance": [],
      "collapsed_sections": []
    },
    "kernelspec": {
      "name": "python3",
      "display_name": "Python 3"
    }
  },
  "cells": [
    {
      "metadata": {
        "id": "nV6jwziGvwmT",
        "colab_type": "text"
      },
      "cell_type": "markdown",
      "source": [
        "# Trashspotting - Reducing Public Litter with Data Science\n",
        "\n",
        "## Image Recognition Model with Object Detection\n",
        "\n",
        "### Problem Statement\n",
        "\n",
        "Public litter has large environmental, sustinability and livability impcts in many U.S. communities. As a result, this project seeks to help address the issue with data science.\n",
        "\n",
        "### Introduction\n",
        "\n",
        "Image recognition project using Google [TensorFlow](https://www.tensorflow.org/), [Colaboratory](https://colab.research.google.com/notebooks/welcome.ipynb) and [Object Detection API](https://github.com/tensorflow/models/tree/master/research/object_detection). This notebook is based on the example provided by this [tutorial](https://link.medium.com/uTgS5pRCPS) on Medium.\n",
        "\n",
        "### Image Analysis\n",
        "\n",
        "This project implements an image recognition model with object detection using TensorFlow. It includes the necessary Jupyter notebooks, Python files and datasets to deploy the model.\n",
        "\n",
        "### Object Detection API\n",
        "\n",
        "Image analysis was improved with the Object Detection API; specifically, annotated images were used to train a custom model. The trained model was used to evaluate test images.\n",
        "\n",
        "### Installation\n",
        "\n",
        "Clone Github repository, then run locally or with Colaboratory. Local installation will require TensorFlow and all dependencies.\n"
      ]
    },
    {
      "metadata": {
        "id": "mCUx8PavvzVV",
        "colab_type": "code",
        "colab": {
          "base_uri": "https://localhost:8080/",
          "height": 134
        },
        "outputId": "e5fd5e85-aaf7-4161-eced-048033c105b0"
      },
      "cell_type": "code",
      "source": [
        "# reference: https://github.com/RomRoc/objdet_train_tensorflow_colab\n",
        "# !git clone --quiet https://github.com/tensorflow/models.git\n",
        "# !apt-get install -qq protobuf-compiler python-tk\n",
        "# !pip install -q Cython contextlib2 pillow lxml matplotlib PyDrive\n",
        "# !pip install -q pycocotools\n",
        "\n",
        "# !ls -al ./\n",
        "# !ls -al ./models\n",
        "%cd ./models/research\n",
        "!protoc object_detection/protos/*.proto --python_out=.\n",
        "\n",
        "import os\n",
        "os.environ['PYTHONPATH'] += ':/content/models/research/:/content/models/research/slim/'\n",
        "!python object_detection/builders/model_builder_test.py\n"
      ],
      "execution_count": 6,
      "outputs": [
        {
          "output_type": "stream",
          "text": [
            "[Errno 2] No such file or directory: './models/research'\n",
            "/content/models/research\n",
            "......................\n",
            "----------------------------------------------------------------------\n",
            "Ran 22 tests in 0.114s\n",
            "\n",
            "OK\n"
          ],
          "name": "stdout"
        }
      ]
    }
  ]
}